{
  "cells": [
    {
      "cell_type": "markdown",
      "metadata": {
        "id": "view-in-github",
        "colab_type": "text"
      },
      "source": [
        "<a href=\"https://colab.research.google.com/github/Dyllboy/MovieReviewLLM_Recomendations/blob/main/LLM_Movie_Recommender_ipydonb.ipynb\" target=\"_parent\"><img src=\"https://colab.research.google.com/assets/colab-badge.svg\" alt=\"Open In Colab\"/></a>"
      ]
    },
    {
      "cell_type": "code",
      "execution_count": 104,
      "metadata": {
        "id": "kybxAoqRxsdK"
      },
      "outputs": [],
      "source": [
        "import os\n",
        "from google.colab import userdata\n",
        "\n",
        "os.environ['HUGGINGFACEHUB_API_TOKEN'] = userdata.get('HUGGINGFACEHUB_API_TOKEN')"
      ]
    },
    {
      "cell_type": "markdown",
      "source": [
        "Required Installs for Program"
      ],
      "metadata": {
        "id": "PF2zyY839Dd4"
      }
    },
    {
      "cell_type": "code",
      "execution_count": 105,
      "metadata": {
        "id": "kyiOTYhPGhaI",
        "colab": {
          "base_uri": "https://localhost:8080/"
        },
        "outputId": "c225e022-1ede-497a-e2e7-64d28588241d"
      },
      "outputs": [
        {
          "output_type": "stream",
          "name": "stdout",
          "text": [
            "Requirement already satisfied: sentence_transformers in /usr/local/lib/python3.10/dist-packages (2.2.2)\n",
            "Requirement already satisfied: transformers<5.0.0,>=4.6.0 in /usr/local/lib/python3.10/dist-packages (from sentence_transformers) (4.35.2)\n",
            "Requirement already satisfied: tqdm in /usr/local/lib/python3.10/dist-packages (from sentence_transformers) (4.66.1)\n",
            "Requirement already satisfied: torch>=1.6.0 in /usr/local/lib/python3.10/dist-packages (from sentence_transformers) (2.1.0+cu121)\n",
            "Requirement already satisfied: torchvision in /usr/local/lib/python3.10/dist-packages (from sentence_transformers) (0.16.0+cu121)\n",
            "Requirement already satisfied: numpy in /usr/local/lib/python3.10/dist-packages (from sentence_transformers) (1.23.5)\n",
            "Requirement already satisfied: scikit-learn in /usr/local/lib/python3.10/dist-packages (from sentence_transformers) (1.2.2)\n",
            "Requirement already satisfied: scipy in /usr/local/lib/python3.10/dist-packages (from sentence_transformers) (1.11.4)\n",
            "Requirement already satisfied: nltk in /usr/local/lib/python3.10/dist-packages (from sentence_transformers) (3.8.1)\n",
            "Requirement already satisfied: sentencepiece in /usr/local/lib/python3.10/dist-packages (from sentence_transformers) (0.1.99)\n",
            "Requirement already satisfied: huggingface-hub>=0.4.0 in /usr/local/lib/python3.10/dist-packages (from sentence_transformers) (0.19.4)\n",
            "Requirement already satisfied: filelock in /usr/local/lib/python3.10/dist-packages (from huggingface-hub>=0.4.0->sentence_transformers) (3.13.1)\n",
            "Requirement already satisfied: fsspec>=2023.5.0 in /usr/local/lib/python3.10/dist-packages (from huggingface-hub>=0.4.0->sentence_transformers) (2023.6.0)\n",
            "Requirement already satisfied: requests in /usr/local/lib/python3.10/dist-packages (from huggingface-hub>=0.4.0->sentence_transformers) (2.31.0)\n",
            "Requirement already satisfied: pyyaml>=5.1 in /usr/local/lib/python3.10/dist-packages (from huggingface-hub>=0.4.0->sentence_transformers) (6.0.1)\n",
            "Requirement already satisfied: typing-extensions>=3.7.4.3 in /usr/local/lib/python3.10/dist-packages (from huggingface-hub>=0.4.0->sentence_transformers) (4.5.0)\n",
            "Requirement already satisfied: packaging>=20.9 in /usr/local/lib/python3.10/dist-packages (from huggingface-hub>=0.4.0->sentence_transformers) (23.2)\n",
            "Requirement already satisfied: sympy in /usr/local/lib/python3.10/dist-packages (from torch>=1.6.0->sentence_transformers) (1.12)\n",
            "Requirement already satisfied: networkx in /usr/local/lib/python3.10/dist-packages (from torch>=1.6.0->sentence_transformers) (3.2.1)\n",
            "Requirement already satisfied: jinja2 in /usr/local/lib/python3.10/dist-packages (from torch>=1.6.0->sentence_transformers) (3.1.2)\n",
            "Requirement already satisfied: triton==2.1.0 in /usr/local/lib/python3.10/dist-packages (from torch>=1.6.0->sentence_transformers) (2.1.0)\n",
            "Requirement already satisfied: regex!=2019.12.17 in /usr/local/lib/python3.10/dist-packages (from transformers<5.0.0,>=4.6.0->sentence_transformers) (2023.6.3)\n",
            "Requirement already satisfied: tokenizers<0.19,>=0.14 in /usr/local/lib/python3.10/dist-packages (from transformers<5.0.0,>=4.6.0->sentence_transformers) (0.15.0)\n",
            "Requirement already satisfied: safetensors>=0.3.1 in /usr/local/lib/python3.10/dist-packages (from transformers<5.0.0,>=4.6.0->sentence_transformers) (0.4.1)\n",
            "Requirement already satisfied: click in /usr/local/lib/python3.10/dist-packages (from nltk->sentence_transformers) (8.1.7)\n",
            "Requirement already satisfied: joblib in /usr/local/lib/python3.10/dist-packages (from nltk->sentence_transformers) (1.3.2)\n",
            "Requirement already satisfied: threadpoolctl>=2.0.0 in /usr/local/lib/python3.10/dist-packages (from scikit-learn->sentence_transformers) (3.2.0)\n",
            "Requirement already satisfied: pillow!=8.3.*,>=5.3.0 in /usr/local/lib/python3.10/dist-packages (from torchvision->sentence_transformers) (9.4.0)\n",
            "Requirement already satisfied: MarkupSafe>=2.0 in /usr/local/lib/python3.10/dist-packages (from jinja2->torch>=1.6.0->sentence_transformers) (2.1.3)\n",
            "Requirement already satisfied: charset-normalizer<4,>=2 in /usr/local/lib/python3.10/dist-packages (from requests->huggingface-hub>=0.4.0->sentence_transformers) (3.3.2)\n",
            "Requirement already satisfied: idna<4,>=2.5 in /usr/local/lib/python3.10/dist-packages (from requests->huggingface-hub>=0.4.0->sentence_transformers) (3.6)\n",
            "Requirement already satisfied: urllib3<3,>=1.21.1 in /usr/local/lib/python3.10/dist-packages (from requests->huggingface-hub>=0.4.0->sentence_transformers) (2.0.7)\n",
            "Requirement already satisfied: certifi>=2017.4.17 in /usr/local/lib/python3.10/dist-packages (from requests->huggingface-hub>=0.4.0->sentence_transformers) (2023.11.17)\n",
            "Requirement already satisfied: mpmath>=0.19 in /usr/local/lib/python3.10/dist-packages (from sympy->torch>=1.6.0->sentence_transformers) (1.3.0)\n",
            "Requirement already satisfied: pinecone-client in /usr/local/lib/python3.10/dist-packages (2.2.4)\n",
            "Requirement already satisfied: requests>=2.19.0 in /usr/local/lib/python3.10/dist-packages (from pinecone-client) (2.31.0)\n",
            "Requirement already satisfied: pyyaml>=5.4 in /usr/local/lib/python3.10/dist-packages (from pinecone-client) (6.0.1)\n",
            "Requirement already satisfied: loguru>=0.5.0 in /usr/local/lib/python3.10/dist-packages (from pinecone-client) (0.7.2)\n",
            "Requirement already satisfied: typing-extensions>=3.7.4 in /usr/local/lib/python3.10/dist-packages (from pinecone-client) (4.5.0)\n",
            "Requirement already satisfied: dnspython>=2.0.0 in /usr/local/lib/python3.10/dist-packages (from pinecone-client) (2.4.2)\n",
            "Requirement already satisfied: python-dateutil>=2.5.3 in /usr/local/lib/python3.10/dist-packages (from pinecone-client) (2.8.2)\n",
            "Requirement already satisfied: urllib3>=1.21.1 in /usr/local/lib/python3.10/dist-packages (from pinecone-client) (2.0.7)\n",
            "Requirement already satisfied: tqdm>=4.64.1 in /usr/local/lib/python3.10/dist-packages (from pinecone-client) (4.66.1)\n",
            "Requirement already satisfied: numpy>=1.22.0 in /usr/local/lib/python3.10/dist-packages (from pinecone-client) (1.23.5)\n",
            "Requirement already satisfied: six>=1.5 in /usr/local/lib/python3.10/dist-packages (from python-dateutil>=2.5.3->pinecone-client) (1.16.0)\n",
            "Requirement already satisfied: charset-normalizer<4,>=2 in /usr/local/lib/python3.10/dist-packages (from requests>=2.19.0->pinecone-client) (3.3.2)\n",
            "Requirement already satisfied: idna<4,>=2.5 in /usr/local/lib/python3.10/dist-packages (from requests>=2.19.0->pinecone-client) (3.6)\n",
            "Requirement already satisfied: certifi>=2017.4.17 in /usr/local/lib/python3.10/dist-packages (from requests>=2.19.0->pinecone-client) (2023.11.17)\n",
            "Requirement already satisfied: pypdf in /usr/local/lib/python3.10/dist-packages (3.17.3)\n",
            "Requirement already satisfied: langchain in /usr/local/lib/python3.10/dist-packages (0.0.352)\n",
            "Requirement already satisfied: PyYAML>=5.3 in /usr/local/lib/python3.10/dist-packages (from langchain) (6.0.1)\n",
            "Requirement already satisfied: SQLAlchemy<3,>=1.4 in /usr/local/lib/python3.10/dist-packages (from langchain) (2.0.23)\n",
            "Requirement already satisfied: aiohttp<4.0.0,>=3.8.3 in /usr/local/lib/python3.10/dist-packages (from langchain) (3.9.1)\n",
            "Requirement already satisfied: async-timeout<5.0.0,>=4.0.0 in /usr/local/lib/python3.10/dist-packages (from langchain) (4.0.3)\n",
            "Requirement already satisfied: dataclasses-json<0.7,>=0.5.7 in /usr/local/lib/python3.10/dist-packages (from langchain) (0.6.3)\n",
            "Requirement already satisfied: jsonpatch<2.0,>=1.33 in /usr/local/lib/python3.10/dist-packages (from langchain) (1.33)\n",
            "Requirement already satisfied: langchain-community<0.1,>=0.0.2 in /usr/local/lib/python3.10/dist-packages (from langchain) (0.0.5)\n",
            "Requirement already satisfied: langchain-core<0.2,>=0.1 in /usr/local/lib/python3.10/dist-packages (from langchain) (0.1.2)\n",
            "Requirement already satisfied: langsmith<0.1.0,>=0.0.70 in /usr/local/lib/python3.10/dist-packages (from langchain) (0.0.72)\n",
            "Requirement already satisfied: numpy<2,>=1 in /usr/local/lib/python3.10/dist-packages (from langchain) (1.23.5)\n",
            "Requirement already satisfied: pydantic<3,>=1 in /usr/local/lib/python3.10/dist-packages (from langchain) (1.10.13)\n",
            "Requirement already satisfied: requests<3,>=2 in /usr/local/lib/python3.10/dist-packages (from langchain) (2.31.0)\n",
            "Requirement already satisfied: tenacity<9.0.0,>=8.1.0 in /usr/local/lib/python3.10/dist-packages (from langchain) (8.2.3)\n",
            "Requirement already satisfied: attrs>=17.3.0 in /usr/local/lib/python3.10/dist-packages (from aiohttp<4.0.0,>=3.8.3->langchain) (23.1.0)\n",
            "Requirement already satisfied: multidict<7.0,>=4.5 in /usr/local/lib/python3.10/dist-packages (from aiohttp<4.0.0,>=3.8.3->langchain) (6.0.4)\n",
            "Requirement already satisfied: yarl<2.0,>=1.0 in /usr/local/lib/python3.10/dist-packages (from aiohttp<4.0.0,>=3.8.3->langchain) (1.9.4)\n",
            "Requirement already satisfied: frozenlist>=1.1.1 in /usr/local/lib/python3.10/dist-packages (from aiohttp<4.0.0,>=3.8.3->langchain) (1.4.0)\n",
            "Requirement already satisfied: aiosignal>=1.1.2 in /usr/local/lib/python3.10/dist-packages (from aiohttp<4.0.0,>=3.8.3->langchain) (1.3.1)\n",
            "Requirement already satisfied: marshmallow<4.0.0,>=3.18.0 in /usr/local/lib/python3.10/dist-packages (from dataclasses-json<0.7,>=0.5.7->langchain) (3.20.1)\n",
            "Requirement already satisfied: typing-inspect<1,>=0.4.0 in /usr/local/lib/python3.10/dist-packages (from dataclasses-json<0.7,>=0.5.7->langchain) (0.9.0)\n",
            "Requirement already satisfied: jsonpointer>=1.9 in /usr/local/lib/python3.10/dist-packages (from jsonpatch<2.0,>=1.33->langchain) (2.4)\n",
            "Requirement already satisfied: anyio<5,>=3 in /usr/local/lib/python3.10/dist-packages (from langchain-core<0.2,>=0.1->langchain) (3.7.1)\n",
            "Requirement already satisfied: packaging<24.0,>=23.2 in /usr/local/lib/python3.10/dist-packages (from langchain-core<0.2,>=0.1->langchain) (23.2)\n",
            "Requirement already satisfied: typing-extensions>=4.2.0 in /usr/local/lib/python3.10/dist-packages (from pydantic<3,>=1->langchain) (4.5.0)\n",
            "Requirement already satisfied: charset-normalizer<4,>=2 in /usr/local/lib/python3.10/dist-packages (from requests<3,>=2->langchain) (3.3.2)\n",
            "Requirement already satisfied: idna<4,>=2.5 in /usr/local/lib/python3.10/dist-packages (from requests<3,>=2->langchain) (3.6)\n",
            "Requirement already satisfied: urllib3<3,>=1.21.1 in /usr/local/lib/python3.10/dist-packages (from requests<3,>=2->langchain) (2.0.7)\n",
            "Requirement already satisfied: certifi>=2017.4.17 in /usr/local/lib/python3.10/dist-packages (from requests<3,>=2->langchain) (2023.11.17)\n",
            "Requirement already satisfied: greenlet!=0.4.17 in /usr/local/lib/python3.10/dist-packages (from SQLAlchemy<3,>=1.4->langchain) (3.0.2)\n",
            "Requirement already satisfied: sniffio>=1.1 in /usr/local/lib/python3.10/dist-packages (from anyio<5,>=3->langchain-core<0.2,>=0.1->langchain) (1.3.0)\n",
            "Requirement already satisfied: exceptiongroup in /usr/local/lib/python3.10/dist-packages (from anyio<5,>=3->langchain-core<0.2,>=0.1->langchain) (1.2.0)\n",
            "Requirement already satisfied: mypy-extensions>=0.3.0 in /usr/local/lib/python3.10/dist-packages (from typing-inspect<1,>=0.4.0->dataclasses-json<0.7,>=0.5.7->langchain) (1.0.0)\n"
          ]
        }
      ],
      "source": [
        "!pip install sentence_transformers\n",
        "!pip install pinecone-client\n",
        "!pip install pypdf\n",
        "!pip install langchain"
      ]
    },
    {
      "cell_type": "code",
      "execution_count": 79,
      "metadata": {
        "id": "P9sLz8v6usmw"
      },
      "outputs": [],
      "source": [
        "import pinecone\n",
        "from langchain.embeddings import HuggingFaceEmbeddings\n",
        "from langchain.chains.qa_with_sources import load_qa_with_sources_chain\n",
        "from langchain import HuggingFaceHub\n",
        "from langchain import PromptTemplate\n",
        "from langchain.document_loaders import UnstructuredPDFLoader\n",
        "from langchain.text_splitter import RecursiveCharacterTextSplitter\n",
        "from langchain.vectorstores import Pinecone\n",
        "from langchain.document_loaders import PyPDFDirectoryLoader\n",
        "from google.colab import drive"
      ]
    },
    {
      "cell_type": "markdown",
      "source": [
        "Mount Google Drive where PDFs are stored. If files are to be loaded from colab just use /content/ path after uploading files."
      ],
      "metadata": {
        "id": "y-K2LiXn9OCx"
      }
    },
    {
      "cell_type": "code",
      "execution_count": 106,
      "metadata": {
        "id": "1QDIx8cH9M3Y",
        "colab": {
          "base_uri": "https://localhost:8080/"
        },
        "outputId": "e555738e-a2b0-4f88-c4be-1d33fb4778ed"
      },
      "outputs": [
        {
          "output_type": "stream",
          "name": "stdout",
          "text": [
            "Mounted at /content/gdrive\n",
            "['Napoleon_Review.pdf', 'Napoleon_Review-2.pdf', 'Napoleon_Review-3.pdf', 'Napoleon_Review-4.pdf', 'Napoleon_Review-5.pdf']\n"
          ]
        }
      ],
      "source": [
        "drive.mount('/content/gdrive', force_remount=True)\n",
        "root_dir = \"/content/gdrive/My Drive/Movie-Review-Project-Folder\"\n",
        "\n",
        "pdf_folder_path = f'{root_dir}'\n",
        "print(os.listdir(pdf_folder_path))"
      ]
    },
    {
      "cell_type": "markdown",
      "source": [
        "Load all pdfs and split them into pages"
      ],
      "metadata": {
        "id": "i6CP9JO49UqW"
      }
    },
    {
      "cell_type": "code",
      "execution_count": 107,
      "metadata": {
        "id": "rjvxA1tFsf8_",
        "colab": {
          "base_uri": "https://localhost:8080/"
        },
        "outputId": "2e2c71e2-a411-43d6-e7a5-651848d21bda"
      },
      "outputs": [
        {
          "output_type": "stream",
          "name": "stdout",
          "text": [
            "[Document(page_content='It’s hard to be a fearless leader and a little cuckhold at the same time. It’s enough to give a man a  \\nNapoleon complex.  \\nThe first question Francophiles will ask is why are a British director of Oscar -winning epics (Ridley  \\nScott, Gladiator) and an American character actor (Joaquin Phoenix, Joker) collaborating on a  \\nbio/war film about a legendary, diminutive (5’6”), French leader? Possibly because the film’s name  \\nalone sells itself and history buffs will be curious. Scott’s rep for stylistic overblown extravaganzas is  \\nanother calling card. (There will be blood —and war.) And the prospect of watching quirky Phoenix  \\nanalyze the leader and put his spin on the character is another draw.  \\nNapoleon Bonaparte was born on the island of Corsica, on August 15 , 1769, a descendant of  \\nItalian nobility. An outsider to the French monarchy, he aggressively championed the French  \\nRevolution in 1789. Rising from the military ranks, he ruled France from 1799 to 1804 as First  \\nConsul, then as its first emperor from 1804 to 1814. Bonaparte was heralded as a battle -hungry,  \\nmilitary strategist who fought wars all over Europe. He and his troops invaded and conquered  \\nIberia (Spain), Italy and forced Austria, Prussia and Russia to coalesce and quake under French  \\ndomination. Basically, he made most of continental Europe his captive.  \\nAside from the warrior life, the conqueror had a wife named Joséphine (Vanessa Kirby, Pieces of a  \\nWoman), who was married before they met. She was sexy and he was smitten from the start. During  \\none of their first meetings, they sat across from each other in a parlor. She suggestively opened her  \\nlegs and purred: “If you look down, you’ll see a surprise. Once you see it you will always want it.” He  \\ndid. They tied the knot; she became an Empress, but could never bear children and give him an  \\nheir. It frayed their relationship.  \\nThe script by David Scarpa, a screenwriter with a sparse resume, is a cliff notes approach to  \\nNapoleon’s achievements. It’s peppered with rivals, colleagues and friends that passed through the  \\nleader’s life. It’s like the writer aimed for a cross between a PBS historical drama, a sweeping Doctor  \\nZhivago -type war movie and a backstairs at the palace soap opera. One where the empress beds a  \\nyoung man, which publicly humiliates her husband. The hodgepodge of subplots mixes, but not  \\nwell. Scenes where Napoleon and Josephine make love don’t add an erotic touch. It’s like watching a  \\nmutt and the winner of the Best in Show at the Westminster Kennel Dog Club Show mating. And  \\nthe dialogue isn’t always a big help, either. Napoleon: “I found the crown of France in the gutter. I', metadata={'source': '/content/gdrive/My Drive/Movie-Review-Project-Folder/Napoleon_Review.pdf', 'page': 0}), Document(page_content='picked it up with my sword and placed it on my head.” Really?  \\nScott seems miffed at finding ways to make the characters three -dimensional. Partial blame goes to  \\nScarpa’s thin writing, which doesn’t match the gravitas, intelligence and imagination of David  \\nFranzoni, John Logan and William Nicholson, the Oscar -nominated screenwriters of Scott’s  Academy \\nAward -winning Gladiator. That film made the Roman general Maximus larger than life,  \\nand no one’s fool. It turned an esoteric historical figure into an icon. This one turns an icon into an  \\nesoteric and eccentric wart. Scott is notorious for placing style over substance, story and characters.  \\nAgain, his towering production elements shroud the basics.  \\nNoticeably, the first 30 minutes of the footage lack the exquisite lighting and saturated colors that  \\nwould make the film visually stunning. That’s where cinematographer Dariusz Wolksi (The  \\nMartian) comes up short. Nothing gels. He and Scott seem to pick up steam during the war scenes.  \\nOnce the ferocious ruler steps onto the battlefield, with horses charging, swords waving, cannons  \\nexploding and soldiers fighting to the death, the film finds its footing. It’s strength. It’s splendor.  \\nAudiences craving verve and galvanizing battles get what they want. Scenes of soldiers crashing  \\nthrough the Satschan frozen ponds during the Battle of Austerlitz, horses being blown to bits and  \\nbattalions swarming en masse are indelible  \\nFor all the money he was paid for this role (estimated $10M), why didn’t Phoenix attempt a French  \\naccent. Yes, the movie is in English, and this isn’t a French production, but fake it. Make the  \\naudience believe in the littlest way that this man is from Corsica and not the U.S.A. The same can  \\nbe said for the other cast members who play French military and political leaders, who don’t feign  \\nanything Gallic.  \\nKirby is English, doesn’t hide her home accent, but she deserves a pass. She’s the one actor in the  \\nentire film who is consistently mesmerizing, regardless. She works the lighting with her poses. Her  \\nsoftness as she speaks is so beguiling. Her Joséphine is the temptress that turned a world leader into  \\na clown, embarrassing him greatly but not enough for him to completely fall out of love.  \\nAbubakar Salim as General Dumas, the French army’s first four -star general, Edouard Philipponnat  \\nas Tsar Alexander the emperor of Russia during the Napoleonic Wars and Youssef Kerkour as  \\nFrench military commander General Davout also excel. Ian McNiece as King Louis XVIII, whom  \\nNapoleon displaced for 100 days in 1815, and Rupert Everett as British Field Marshall Arthur', metadata={'source': '/content/gdrive/My Drive/Movie-Review-Project-Folder/Napoleon_Review.pdf', 'page': 1}), Document(page_content='Wellesley the Duke of Wellington, Napoleon’s rival who ended 23 years of French domination in  \\nEurope at the notorious Battle of Waterloo, are excellent too.  \\nNapoleon Bonaparte’s excursions last for 2h 38m (editors Sam Restivo and Claire Simpson), which  \\nby Killers of the Flower Moon standards (3h 26m) makes it short and sweet. If film fans trek to their  \\nlocal cinema, the meticulously staged war sequences, played like chess games, will keep them  \\nintrigued. Especially in IMAX theaters where the horrors will be a gruesome spectacle and views of  \\nthe Sphinx will amaze. The film may play well one day on streaming services too, but some of the  \\nmovie’s majesty will be lost. Napoleon was a man who nearly conquered the world. A husband who lost \\nhis dignity. An  \\nemperor/warrior who died in exile. Surely there was a better way to tell his story. A better way to  \\nmake a petite man a giant.', metadata={'source': '/content/gdrive/My Drive/Movie-Review-Project-Folder/Napoleon_Review.pdf', 'page': 2}), Document(page_content='Like a Michelin -starred meal that someone forgot to season, Ridley Scott’s beefy account of \\nNapoleon’s rise to power looks great, is served with some panache, but crucially lacks flavour. The \\nlegendary Brit – who kicked off his career with a more bite -sized but much saltier Napoleonic tale in \\nThe Duellists – is already promising a four -hour director’s cut. This might be one of those rare \\noccasions where another 80 minutes makes all the difference.  \\nNapoleon has too much history and not enough story. In a performance that lacks dynamism, \\nJoaquin Phoenix gets 32 years of Napoleon Bonaparte’s life to embody, from witnessing Marie \\nAntoinette’s execution to dying in exile in the South Atlantic. But by pri oritising a conveyor belt of \\nbattles, coups and revolutions over a more forensic investigation of its subject, the film too often \\nleaves him feeling more like a passenger than instigator.  \\nAristocratic beauty Josephine de Beauharnais is Napoleon’s – man and movie – main \\npreoccupation. Played with a feline purr by Vanessa Kirby, her poise and elegance reduces the great \\nman to gawkiness, then boyish jealousy, and finally frustration at her ina bility to provide him with a \\nson. Napoleon has great fun with Boney’s frisky bedchamber antics – he signals his desire like a pig \\nhunting for truffles – but doesn’t give Josephine much inner life as a reward for putting up with all \\nthe amateurish thrusting . \\nThere are lots of enjoyable historical details here – some of which may have happened; others (like \\nthe cannon -balling of the Pyramids) absolutely didn’t. At Waterloo, a British sniper draws a bead on \\nBonaparte only for Wellington (Rupert Everett, perfectl y cast) to order him not to pull the trigger. \\n‘Generals are far too busy to waste time trying to kill each other,’ the Iron Duke splutters at this \\nunsporting behaviour.   \\nLike much in Napoleon, though, it’s not really a commentary on how the power games of great men \\nare paid for in the blood of the lower ranks. It’s film without a clear point of view. A pre -end-credits \\nhonour roll counting the vast human cost of Napoleon’s military ambitions – four million men – \\nsuggests an altogether more sober movie than the action -packed epic you just watched.  \\nOf the cast of mainly English thesps, the highlight is Paul Rhys (aka Saltburn’s terrifying butler) as \\nTalleyrand, France’s chief negotiator at Europe’s high table. He plays it with the half -smirk of a man \\nwhose primary job is to translate Napoleon’s rude utterings into palatable diplomatic language, but \\ncan’t quite manage it. He warns the Austrian king that he will ‘suffer the consequences of a man \\nbent on peace at any cost’. Phoenix, by contrast, gets to bellow at France’s would -be adversaries: \\n‘You think  you’re so great because you have boats!’  \\nThat line got a big laugh at my screening, though I couldn’t say whether the movie intended it. \\nScott’s All the Money in the World writer David Scarpa’s screenplay strains to show the clumsy side \\nof this conqueror of nations, a man prone to sulky insecurit y, especially over Josephine, and \\npetulant outbursts, but overeggs it.  \\nHaving everyone speak with English accents (including even French -Algerian actor Tahar Rahim as \\npolitical ally Paul Barras) robs it of a major source of dramatic tension: the fact that Napoleon \\nwasn’t French but a Corsican, an outsider in a land he feared would reject him at any moment. \\nWhat drove him to keep fighting for pre -eminence in this unwelcoming land, beyond his famously \\nself-professed ‘destiny’ and the quest for an heir, proves elusive.', metadata={'source': '/content/gdrive/My Drive/Movie-Review-Project-Folder/Napoleon_Review-2.pdf', 'page': 0}), Document(page_content='Ridley Scott is an unstoppable machine. He pit Sigourney Weaver against an alien in 1979; now, 44 \\nyears – and many classics – later, he pits Joaquin Phoenix against the world in the epic Napoleon. \\nChoosing broad brushstrokes over intricate details, Scott a nd screenwriter David Scarpa attempt to \\ncondense the titular character’s entire complex life into a two -and-a-half-hour narrative. The result, \\nwhile flawed, is glorious: majestic, atmospheric, visually stunning, led by two charismatic leads. \\nScott, at 86, shows the young ‘uns how it’s done.  \\nThe narrative begins in 1793, when a young Napoleon (Joaquin Phoenix), still an officer, observes \\nQueen Marie Antoinette (Catherine Walker) beheaded by a guillotine. Soon, he proves himself to \\nPaul Barras (Tahar Rahim), a politician and revolutionary leade r, by fighting off the British, followed \\nby a series of battle victories, executed with ease and finesse. Ambitious from a young age, \\nNapoleon does not even attempt to hide his overinflated ego nor his grand aspirations.  \\nHe finds himself entranced by Joséphine de Beauharnais (Vanessa Kirby), a coquettish widow; \\nbefore long, they get married. Her public infidelity drives Napoleon to abandon his troops in Egypt \\nafter winning the Battle of the Pyramids. Yet he does not divorc e Joséphine – not yet, at least. Her \\ninability to birth him an heir eventually leads to the collapse of their marriage.  \\nScott’s film may be overstuffed and unwieldy, but it’s also never boring and unexpectedly hilarious. \\nHe and Scarpa zoom through major historical events: Napoleon’s coronation, the Battle of \\nAusterlitz, the Battle of Borodino, the failed invasion of Russia,  the battle of Waterloo, and \\nNapoleon’s exile. Interestingly, the filmmakers focus more on the central relationship, some of the \\nexplosive film’s most powerful scenes involving the two leads quietly exploring their power \\ndynamics, the nuances of their weir dly symbiotic relationship.  \\nPhoenix is magnetic, per usual, utterly inhabiting the central character while avoiding the pitfalls of \\nplaying a larger -than-life personality. In fact, he goes in the opposite direction, that of introspection, \\nwhich renders his performance that much more enigmatic. Kirby, too, sidesteps the usual clichés of \\na female supporting character in a predominantly male feature, not only holding her own but \\nforming the heart of the otherwise steely affair. Also, thank heavens they didn’t de -age them for the \\nearlier sequences; I’d rather buy into a 49 -year-old Phoenix playing a 24 -year-old Napoleon than be \\ndistracted by the pixels all over his face.  \\nThe battle sequences are, of course, jaw -dropping in scope. Legendary cinematographer Dariusz \\nWolski’s camera glides over dark -green hills or foggy wintry terrain, eyeing the clashing armies with \\na perfectly calibrated balance of indifference and reverence . (One particular instance with a horse \\nis bound to get the audience riled up.) The battle of Austerlitz, with its bombardment of a frozen \\nlake, may mark the standout, for it’s not the exploding ice that astounds the most – it’s Bonaparte’s \\neyes, viewing t he destruction with the mix of pride and nonchalance that Wolski captures so well.  \\nThe film explores what drove Napoleon, avoiding gimmicks or easy targets (it never even mentions \\nhis height): his ego, his love of his people and country – and, of course, Joséphine – and, well, \\nsomething else, something that Phoenix leaves for interpretat ion. He’s both kind and heartless, \\ndevoted and self -absorbed. It’s definitely not your typical portrayal of a famous historical figure, and \\nthe better for it.', metadata={'source': '/content/gdrive/My Drive/Movie-Review-Project-Folder/Napoleon_Review-3.pdf', 'page': 0}), Document(page_content='\"Napoleon,\" a technically impressive epic with grandiose battle sequences featuring gritty set \\ndesigns and legions of miserable -looking extras, is a 158 -minute roast of the titular historical figure \\nwhose 60 battles throughout his two decades in power have  been boiled down to six of Scott and \\nwriter David Scarpa\\'s choosing. The inclusion of Waterloo, the battle that marked the end of the \\nNapoleonic Wars, was obvious. The Battle of Austerlitz was another jazzy win for the French leader \\nwith an incredible seq uence that found Napoleon Bonaparte (Joaquin Phoenix) dunking his foes in \\nthe frozen water as they attempted to retreat.  But the battle that takes up a majority of the film\\'s \\nattention is Napoleon\\'s turbulent relationship with his wife Josephine (Vanessa Kirby) whose erratic \\nbehavior, frequent infidelity and inability to provide him an heir was enough drama to be a full -time \\njob. Napoleon was no Casanova, at least not according to Phoenix\\'s portrayal and Scarpa\\'s writing \\nwho attribute the emperor\\'s rise as a result of the tumultuous post -revolution landscape and good, \\nol\\' fashion right -place, right -time. Napoleon had some imp ressive military operations — the movie \\nportrays a few of them — but they are undercut by his spoiled, schoolboy obsession with his wife.  \\n\"Napoleon\" opens with the gruesome execution via guillotine of the infamous French queen Marie \\nAntoinette, a seminal event in the French Revolution and one that marked an opportunity for \\nNapoleon, then a scheming military strategist and war general, to gai n popularity and seize political \\npower. He finally crowned himself emperor in 1804, a ceremony portrayed in the film with a \\nreckless tyrant throwing tradition aside and pulling the crown over his own head, a symbol of his \\nunyielding control of France. On p aper, it sounds thoughtful and powerful. In Phoenix\\'s hands, the \\nscene is a gag, and Napoleon is another over -indulgent, petulant royal.  Told through letters to \\nJosephine, \"Napoleon\" does do an incredible job with setting the scene, drawing audiences into the \\nepic battles Napoleon fought throughout his career. The battlefield sequences are brutal. Audience \\nmembers can almost taste the mud t hat flicks up after the horses. The rudimentary quarters for the \\ncommanding emperor wreak of bodily stink and misery. \"Napoleon\" thrives under Scott\\'s ability to \\ncommand his own army of camera operators, set creators and the thousands of workers to bring \\nthe scenes to excruciatingly visceral life.  Unfortunately, the film is far more interested in the \\ndramatic and mercurial relationship between the lead and his much older wife who had been \\npreviously widowed with two children than it is in deep diving into the famous historical figure\\'s \\nprofessional triumphs and failures. Josephine had been a mistress to a number of other news -\\nworthy men, and the legally binding document did not stop her from continuing on as an \\nadulteress. Kirby, for her part, is wonderfully miserable as the confused temptress -empress, though \\nthe film never truly dives too deep into her background or gives her enough meaningful attention.  As \\nfar as straight biopics go, \"Napoleon\" is a weird one. The film, like its subject, is temperamental and \\nrash. Scott hones in on the small details in Napoleon\\'s life that make the historical figure out to be \\nless cunning and calculating than his notoriet y and long -lasting legacy would imply. Then, in \\nPhoenix\\'s hands, Napoleon turns completely childish, rash and imbecilic. Phoenix\\'s penchant for \\ndry, understated performances turns this one into a downright comedy, a Wes Anderson character \\nstudy trapped in a Steven Spielberg period drama. Is this meant to be funny? Is it funny at all? \\nWhere does Napoleon start when Phoenix never seems to end?  This will work for some viewers as \\nan unexpected dram -com; it does not work for me. Instead, I found the scope of the film\\'s budget,', metadata={'source': '/content/gdrive/My Drive/Movie-Review-Project-Folder/Napoleon_Review-4.pdf', 'page': 0}), Document(page_content=\"Where does Napoleon start when Phoenix never seems to end?  This will work for some viewers as \\nan unexpected dram -com; it does not work for me. Instead, I found the scope of the film's budget, \\nthe beauty of its set design, the intricacy of its costumes and the many details that make it an \\nexceptional output by a fi rst-class director to be utterly undermined by a nonsensical script that \\nfocused on comedy jabs and laconic vignettes to tear down a famous figure who, as it happens, \\ndoesn't need any help being the vertically challenged butt of every joke, even 200 years later.\", metadata={'source': '/content/gdrive/My Drive/Movie-Review-Project-Folder/Napoleon_Review-4.pdf', 'page': 0}), Document(page_content='When it comes to impact, Ridley Scott is always aiming high. A maximalist at heart, Scott wants \\nhis movies to feel like event experiences.  When it comes to epic cinema, a Napoleon biopic \\nshould tick the boxes. This is a man who still divides opinion, as either a master tactician trying \\nto recapture France’s honour and glory or as a despotic warmonger responsible for the deaths of \\nmillions of Frenchmen. He could also be both.  With an outsized legacy, historical significance \\nand a military career spanning more than 80 wars, Napoleon fits with Scott’s sensibilities for \\nspectacle. The British filmmaker restages six of these conflicts in grand set -pieces that dazzle \\nand amaze.  They are visually arresting as throngs of infantry and cavalry swarm the battlefield, a \\nsumptuous tapestry of dirt and death. Napoleon’s victory over his foes at the Battle of Austerlitz \\nis particularly dramatic as bodies and streaks of blood shoot through  the water as the ice above \\ndrowns them in their graves.  You cannot watch these moments and fault the execution of Scott’s \\nvision with his frequent collaborator cinematographer Dariusz Wolski composing frames that \\ncould hang in the Louvre. It’s a devastating portrait of victory.  When it comes to lavish battle \\nporn, Napoleon serves it up. And the six conflicts in the film, starting with the Siege of Toulon to \\nthe Battle of Waterloo, charts his growth as a military leader.  In the first, Napoleon is nervous, \\nalmost quivering, as he tries to overcome his inner doubts of himself as a “Corsican ruffian” with \\npoor hand -to-hand combat skills. By the time it ends with Waterloo, his hubris has turned to \\nexhaustion and resignation.  If the movie had lurched from one battle to another, it might have \\nbeen a more effective film. Instead, they are just the highpoints in an inconsistent piece that is far \\ntoo long for what it is, not what it could’ve been.  That’s the thing with long run times, isn’t it? \\nThe subject, the story strokes and the emotional character arc could have sustained two hours and \\n38 minutes but when a movie falters on several fronts including clunky dialogue, you really start \\nto feel the length.  Napoleon wavers, a lot. Scott’s direction of Joaquin Phoenix is discordant. The \\ncharacterisation rather than the character is often erratic. He’s petulant one minute and sombre \\nthe next, and there’s no connective tissue or overall cohesion.  You never grasp Napoleon’s true \\nmotivations, what drives him to conquer and what made him such a military genius until he \\nwasn’t. Napoleon feels like it has chapters out of a strait -laced biography but not the whole book. \\nIt’s missing the why and the why i s crucial in a biopic because without it, you don’t care about \\nthe person who has to carry the film . It’s also difficult to care about Empress Josephine (Vanessa \\nKirby) who seems to exist purely to pine for or be frustrated with Napoleon. She is reduced to \\ntheir “great love” and nothing more. It’s even more disappointing when you have someone of \\nKirby’s c alibre.  What remains is a film that is emotionally distancing and sometimes \\nperfunctory. And this is not a rarity for Scott, one of the most celebrated filmmakers and yet has \\na long list of duds including his most recent effort, House of Gucci.  But, and it’s a big but, those \\nbattle sequences are breathtaking – a marvel of craft and filmmaking that elevates Napoleon and \\nsaves it from being relegated to the discards pile of cinema history.', metadata={'source': '/content/gdrive/My Drive/Movie-Review-Project-Folder/Napoleon_Review-5.pdf', 'page': 0})]\n"
          ]
        }
      ],
      "source": [
        "loader = PyPDFDirectoryLoader(pdf_folder_path)\n",
        "pages = loader.load_and_split()\n",
        "print(pages)"
      ]
    },
    {
      "cell_type": "markdown",
      "source": [
        "Split text using recursive character approach"
      ],
      "metadata": {
        "id": "f_GRlZXS9Y1P"
      }
    },
    {
      "cell_type": "code",
      "execution_count": 108,
      "metadata": {
        "id": "f6R8kQYI9yoY"
      },
      "outputs": [],
      "source": [
        "text_splitter = RecursiveCharacterTextSplitter(\n",
        "    chunk_size= 400,\n",
        "    chunk_overlap=20,\n",
        "    separators=['\\n\\n', '\\n', '(?=>\\. )', ' ', '']\n",
        ")\n",
        "docs  = text_splitter.split_documents(pages)"
      ]
    },
    {
      "cell_type": "markdown",
      "source": [
        "Import Embeddings from Hugging Face"
      ],
      "metadata": {
        "id": "qn2myHWX9fVt"
      }
    },
    {
      "cell_type": "code",
      "execution_count": 83,
      "metadata": {
        "id": "W0WgrnptCur-"
      },
      "outputs": [],
      "source": [
        "embeddings = HuggingFaceEmbeddings()\n"
      ]
    },
    {
      "cell_type": "markdown",
      "source": [
        "Just used to check diminsions of vector space. This is needed when setting up the pinecone vector store."
      ],
      "metadata": {
        "id": "sEV7m1vC9k4O"
      }
    },
    {
      "cell_type": "code",
      "execution_count": 109,
      "metadata": {
        "id": "LWW12hilHc9o",
        "colab": {
          "base_uri": "https://localhost:8080/"
        },
        "outputId": "b6cd4a89-e28c-47cd-ba48-169db40f9e35"
      },
      "outputs": [
        {
          "output_type": "execute_result",
          "data": {
            "text/plain": [
              "768"
            ]
          },
          "metadata": {},
          "execution_count": 109
        }
      ],
      "source": [
        "vectors=embeddings.embed_query(\"Test\")\n",
        "len(vectors)"
      ]
    },
    {
      "cell_type": "markdown",
      "source": [
        "Initiate Pinecone"
      ],
      "metadata": {
        "id": "jro7QTUS934f"
      }
    },
    {
      "cell_type": "code",
      "execution_count": 110,
      "metadata": {
        "id": "gbjf-8SAJWNu"
      },
      "outputs": [],
      "source": [
        "pinecone.init(api_key=\"ead85f5b-b5fd-49f1-ac39-d620cf1f1ce1\", environment=\"gcp-starter\")"
      ]
    },
    {
      "cell_type": "markdown",
      "source": [
        "Embed our pdf documents into the vectorstore"
      ],
      "metadata": {
        "id": "fs0sE5n7-BwC"
      }
    },
    {
      "cell_type": "code",
      "execution_count": null,
      "metadata": {
        "id": "watRDUSh8NtZ"
      },
      "outputs": [],
      "source": [
        "index = Pinecone.from_documents(docs, embeddings, index_name=\"moviellm-vectorstore\")"
      ]
    },
    {
      "cell_type": "markdown",
      "source": [
        "This code is to load the existing index if it has already been embedded with the documents"
      ],
      "metadata": {
        "id": "4wk6VqiCDzIp"
      }
    },
    {
      "cell_type": "code",
      "source": [
        "index = Pinecone.from_existing_index(\"moviellm-vectorstore\", embeddings)"
      ],
      "metadata": {
        "id": "8pkS7KFUBJR9"
      },
      "execution_count": 111,
      "outputs": []
    },
    {
      "cell_type": "markdown",
      "source": [
        "Prompt template helps give llm context for its answer. By telling it not to answer questions it doesn't know, it prevents odd generlizations."
      ],
      "metadata": {
        "id": "Zc6lniKn79BP"
      }
    },
    {
      "cell_type": "code",
      "execution_count": 112,
      "metadata": {
        "id": "lEY5TscPkXKZ"
      },
      "outputs": [],
      "source": [
        "template =\"\"\"\n",
        "Use {summaries} which are critic reviews of the film Napoleon as a reference to guide your answer.\n",
        "If you do not know just say I don't know. Do not try and make up an answer.\n",
        "\n",
        "Question: {question}\"\"\"\n",
        "\n",
        "PROMPT = PromptTemplate(template=template, input_variables=[\"summaries\", \"question\"])"
      ]
    },
    {
      "cell_type": "markdown",
      "source": [
        "Setup LLM from HuggingFaceHub API. Chain uses \"stuff\" meaning context is simplay stuffed into the prompt."
      ],
      "metadata": {
        "id": "jfMyoXTl7xgk"
      }
    },
    {
      "cell_type": "code",
      "execution_count": 113,
      "metadata": {
        "id": "GEBpXu60-txe",
        "colab": {
          "base_uri": "https://localhost:8080/"
        },
        "outputId": "fb160974-2154-4845-918e-68fa0db46df3"
      },
      "outputs": [
        {
          "output_type": "stream",
          "name": "stderr",
          "text": [
            "/usr/local/lib/python3.10/dist-packages/huggingface_hub/utils/_deprecation.py:127: FutureWarning: '__init__' (from 'huggingface_hub.inference_api') is deprecated and will be removed from version '1.0'. `InferenceApi` client is deprecated in favor of the more feature-complete `InferenceClient`. Check out this guide to learn how to convert your script to use it: https://huggingface.co/docs/huggingface_hub/guides/inference#legacy-inferenceapi-client.\n",
            "  warnings.warn(warning_message, FutureWarning)\n"
          ]
        }
      ],
      "source": [
        "llm=HuggingFaceHub(repo_id=\"google/flan-t5-xxl\", model_kwargs={\"temperature\":1})\n",
        "chain = load_qa_with_sources_chain(llm, chain_type=\"stuff\", prompt=PROMPT)"
      ]
    },
    {
      "cell_type": "markdown",
      "source": [
        "Function to call vectordb using similiarity search with query. k = the amount of contexts returned."
      ],
      "metadata": {
        "id": "MtJUEumY7ejs"
      }
    },
    {
      "cell_type": "code",
      "execution_count": 114,
      "metadata": {
        "id": "R7P_9GUS8NgL"
      },
      "outputs": [],
      "source": [
        "def callVectorDB(query):\n",
        "  db_results = index.similarity_search(query, k=4)\n",
        "  return db_results"
      ]
    },
    {
      "cell_type": "markdown",
      "source": [
        "Prompt 1 - The model is very good at finding simple facts from the context. Such as who played what character."
      ],
      "metadata": {
        "id": "ODspCSQHvw9H"
      }
    },
    {
      "cell_type": "code",
      "execution_count": 115,
      "metadata": {
        "id": "3IsCb9qJnFcK",
        "colab": {
          "base_uri": "https://localhost:8080/"
        },
        "outputId": "6ebfd8e6-d063-4385-ca15-4f2b57be419d"
      },
      "outputs": [
        {
          "output_type": "stream",
          "name": "stdout",
          "text": [
            "Joaquin Phoenix\n"
          ]
        }
      ],
      "source": [
        "query = \"Who played Napoleon?\"\n",
        "docs= callVectorDB(query)\n",
        "response = chain.run(input_documents=docs, question=query)\n",
        "print(response)"
      ]
    },
    {
      "cell_type": "markdown",
      "source": [
        "Prompt 2 - The model is capable of making generalizations and giving suggestions."
      ],
      "metadata": {
        "id": "DzR_RvQtvyDX"
      }
    },
    {
      "cell_type": "code",
      "source": [
        "query = \"I enjoy comedies. Would I enjoy Napoleon? Explain your reasoning.\"\n",
        "docs= callVectorDB(query)\n",
        "response = chain.run(input_documents=docs, question=query)\n",
        "print(response)"
      ],
      "metadata": {
        "colab": {
          "base_uri": "https://localhost:8080/"
        },
        "id": "ktWYJLxMvrx8",
        "outputId": "b1cf6f59-24d8-41ba-e817-71761ff73a28"
      },
      "execution_count": 116,
      "outputs": [
        {
          "output_type": "stream",
          "name": "stdout",
          "text": [
            "Napoleon is a biopic and not a comedy. The answer: no.\n"
          ]
        }
      ]
    },
    {
      "cell_type": "markdown",
      "source": [
        "Prompt 3 - The model looks at context about the battle within Napoleon then answers my question."
      ],
      "metadata": {
        "id": "dnS3W193vzUu"
      }
    },
    {
      "cell_type": "code",
      "source": [
        "query = \"I enjoy action and fight scenes. Will I enjoy Napoleon? Explain you reasoning.\"\n",
        "docs= callVectorDB(query)\n",
        "response = chain.run(input_documents=docs, question=query)\n",
        "print(response)"
      ],
      "metadata": {
        "colab": {
          "base_uri": "https://localhost:8080/"
        },
        "id": "ZlreSf5vvud0",
        "outputId": "8eecda27-2899-4ce1-8455-41d94bc44461"
      },
      "execution_count": 117,
      "outputs": [
        {
          "output_type": "stream",
          "name": "stdout",
          "text": [
            "The battle sequences are breathtaking – a marvel of craft and filmmaking that elevates Napoleon and saves it from being relegated to the discards pile of cinema history. So the answer is yes.\n"
          ]
        }
      ]
    },
    {
      "cell_type": "markdown",
      "source": [
        "Prompt 4 - The model pulls keywords from the context in its answer."
      ],
      "metadata": {
        "id": "cp05E00qv0V-"
      }
    },
    {
      "cell_type": "code",
      "source": [
        "query = \"What did the critics have to say about Joaquin Phoenix's acting? Did they enjoy it? Explain your reasoning.\"\n",
        "docs= callVectorDB(query)\n",
        "response = chain.run(input_documents=docs, question=query)\n",
        "print(response)"
      ],
      "metadata": {
        "colab": {
          "base_uri": "https://localhost:8080/"
        },
        "id": "KhpqFNZpvvPl",
        "outputId": "38d312f9-828c-4074-8dad-cb37f72d67da"
      },
      "execution_count": 118,
      "outputs": [
        {
          "output_type": "stream",
          "name": "stdout",
          "text": [
            "The critics said that Joaquin Phoenix's performance lacks dynamism.\n"
          ]
        }
      ]
    },
    {
      "cell_type": "markdown",
      "source": [
        "Prompt 5 - The model often quotes directly from the context."
      ],
      "metadata": {
        "id": "iho5nPC-v1fn"
      }
    },
    {
      "cell_type": "code",
      "source": [
        "query = \"What did the critics say about Ridley Scott's direction. Did they enjoy it? Explain your reasoning.\"\n",
        "docs= callVectorDB(query)\n",
        "response = chain.run(input_documents=docs, question=query)\n",
        "print(response)"
      ],
      "metadata": {
        "colab": {
          "base_uri": "https://localhost:8080/"
        },
        "id": "fIOxcNHLvwDI",
        "outputId": "d0ee12f9-4f80-45bd-d08d-5e1be24389d7"
      },
      "execution_count": 119,
      "outputs": [
        {
          "output_type": "stream",
          "name": "stdout",
          "text": [
            "Scott is notorious for placing style over substance, story and characters. Again, his towering production elements shroud the basics.\n"
          ]
        }
      ]
    },
    {
      "cell_type": "markdown",
      "source": [
        "Open Cell"
      ],
      "metadata": {
        "id": "QE1ZxDgqAjep"
      }
    },
    {
      "cell_type": "code",
      "source": [
        "query = \"Who is the president of the United States\"\n",
        "docs= callVectorDB(query)\n",
        "response = chain.run(input_documents=docs, question=query)\n",
        "print(response)"
      ],
      "metadata": {
        "colab": {
          "base_uri": "https://localhost:8080/"
        },
        "id": "eTL4FZbdAlnO",
        "outputId": "53b71b80-76e3-4e7a-e199-b64e68454522"
      },
      "execution_count": 120,
      "outputs": [
        {
          "output_type": "stream",
          "name": "stdout",
          "text": [
            "I don't know\n"
          ]
        }
      ]
    },
    {
      "cell_type": "markdown",
      "source": [
        "Overall findings:\n",
        "\n",
        "Limited tokens for calling llm over api leads to limited responses and overall limits the power of the model.\n",
        "\n",
        "Smaller contexts leads to worse answers and lessens the models ability to make generalizations.\n",
        "\n",
        "The template is necessary to give the llm knowledge about the contexts you are giving it."
      ],
      "metadata": {
        "id": "jn5_A7iuAezD"
      }
    }
  ],
  "metadata": {
    "colab": {
      "provenance": [],
      "authorship_tag": "ABX9TyNpdNCOpnKNDg2oBVBHRF/j",
      "include_colab_link": true
    },
    "kernelspec": {
      "display_name": "Python 3",
      "name": "python3"
    },
    "language_info": {
      "name": "python"
    }
  },
  "nbformat": 4,
  "nbformat_minor": 0
}